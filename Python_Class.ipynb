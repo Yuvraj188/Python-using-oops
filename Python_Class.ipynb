{
 "cells": [
  {
   "cell_type": "raw",
   "id": "fe4e842b-6487-47b6-b77f-cb171f021b9e",
   "metadata": {},
   "source": [
    "class name=>PascalCase\n",
    "method name=>snake_case\n",
    "Object literals=\"create objects in a concise and intuitive way\"\n",
    "Function(NOT WRITTEN IN A CLASS AND CALLING IS DIFFERENT) vs METHODS(SAME AS FUNCTION WRITTEN IN A CLASS CALLED USING OBJECT)"
   ]
  },
  {
   "cell_type": "code",
   "execution_count": null,
   "id": "357957ce-01a1-4d6b-9a1c-d3e2de53c48c",
   "metadata": {},
   "outputs": [],
   "source": [
    "#55 variables are always created in this only, __init__=>constructor\n",
    "#special/dunder/magic methods\n",
    "#magic methods=> called without the object are magic methods automatically called ex constructor\n",
    "class Atm:\n",
    "    def __init__(self):\n",
    "     self.pin=\"\"\n",
    "     self.balance=0\n",
    "     self.menu()\n",
    "    def menu(self):\n",
    "        user_input=input(\"\"\"\n",
    "        HELLO HOW WOULD YOU LIKE TO PROCEED?\n",
    "        1.ENTER 1 TO CREATE PIN \n",
    "        2.ENTER 2 TO DEPOSIT \n",
    "        3.ENTER 3 TO WITHDRAW\n",
    "        4.ENTER 4 TO CHECK BALANCE\n",
    "        5.ENTER 5 TO EXIT\n",
    "        \"\"\")\n",
    "        if user_input==\"1\":\n",
    "            self.create_pin()\n",
    "        elif user_input==\"2\":\n",
    "            self.withdraw()\n",
    "        elif user_input==\"3\":\n",
    "            self.deposit()\n",
    "        elif user_input==\"4\":\n",
    "            self.balance()\n",
    "        else:\n",
    "            print(\"bye\")\n",
    "    def create_pin(self):\n",
    "        self.pin=input(\"enter your pin\")\n",
    "        print(\"Pin set success\")\n",
    "    def deposit(self):\n",
    "        temp=input(\"enter yout pin\")\n",
    "        if temp==self.pin:\n",
    "            amount=int(input(\"enter the amount\"))\n",
    "            self.balance=self.balance+amount\n",
    "            print(\"Deposit successfully\")\n",
    "        else:\n",
    "            print(\"invalid pin\")\n",
    "    def withdraw(self):\n",
    "        temp=input(\"enter yout pin\")\n",
    "        if temp==self.pin:\n",
    "            amount=int(input(\"enter the amount to be withdraw\"))\n",
    "            if self.balance>=amount:\n",
    "                self.balance=self.balance-amount\n",
    "                print(\"Operation Succesful\")\n",
    "            else:\n",
    "                print(\"insufficient funds\")\n",
    "        else:\n",
    "            print(\"invalid pin\")\n",
    "    def balance(self):\n",
    "        temp=input(\"enter the pin\")\n",
    "        if temp==self.pin:\n",
    "            print(\"The total balance is\"+self.balance)\n",
    "        else:\n",
    "            print(\"invalid pin\")\n",
    "\n",
    "a=Atm()    \n",
    "                \n",
    "                \n",
    "        \n",
    "        \n",
    "        \n",
    "        \n",
    "        \n",
    "     \n",
    "     \n",
    "     \n",
    "    \n",
    "    "
   ]
  },
  {
   "cell_type": "code",
   "execution_count": null,
   "id": "c51c415e-efdf-40dd-914c-92a66e9ce6f3",
   "metadata": {},
   "outputs": [],
   "source": [
    ")"
   ]
  }
 ],
 "metadata": {
  "kernelspec": {
   "display_name": "Python 3 (ipykernel)",
   "language": "python",
   "name": "python3"
  },
  "language_info": {
   "codemirror_mode": {
    "name": "ipython",
    "version": 3
   },
   "file_extension": ".py",
   "mimetype": "text/x-python",
   "name": "python",
   "nbconvert_exporter": "python",
   "pygments_lexer": "ipython3",
   "version": "3.11.1"
  }
 },
 "nbformat": 4,
 "nbformat_minor": 5
}
