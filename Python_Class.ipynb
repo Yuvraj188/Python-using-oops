{
 "cells": [
  {
   "cell_type": "raw",
   "id": "fe4e842b-6487-47b6-b77f-cb171f021b9e",
   "metadata": {},
   "source": [
    "oops=>general to specific\n",
    "class name=>PascalCase\n",
    "method name=>snake_case\n",
    "Object literals=\"create objects in a concise and intuitive way\"\n",
    "Function(NOT WRITTEN IN A CLASS AND CALLING IS DIFFERENT) vs METHODS(SAME AS FUNCTION WRITTEN IN A CLASS CALLED USING OBJECT)"
   ]
  },
  {
   "cell_type": "code",
   "execution_count": null,
   "id": "357957ce-01a1-4d6b-9a1c-d3e2de53c48c",
   "metadata": {},
   "outputs": [],
   "source": [
    "#1) variables are always created in this only, __init__=>constructor\n",
    "#2)special/dunder/magic methods\n",
    "#3)magic methods=> called without the object at the specific conditions\n",
    "# 4)like constructor are magic methods automatically called\n",
    "#5)why constructor??when we not want to give control to user and want to start some process before \n",
    "#starting the application we use constructor\n",
    "#for ex- if god is creater of class world and we are objects of it then in constructor there will be death.\n",
    "#6) the object we currently working is self. when we want to run application that object will\n",
    "#take place of self.and self points to that object\n",
    "#7)when we call the method with object by default  it take input the object as parameter\n",
    "#that will be received by the self. so in every method(self) this is written because only object can acess the data\n",
    "#of class so when method need to access variable it can be acessed by the object in the form of self only.\n",
    "# so we have to write self in the methods\n",
    "# a method of one class cannot directly interact with other method of same class this is rule so this is achieved \n",
    "#by the self\n",
    "\n",
    "\n",
    "class Atm:\n",
    "    def __init__(self):\n",
    "     self.pin=\"\"\n",
    "     self.balance=0\n",
    "     self.menu()\n",
    "    def menu(self):\n",
    "        user_input=input(\"\"\"\n",
    "        HELLO HOW WOULD YOU LIKE TO PROCEED?\n",
    "        1.ENTER 1 TO CREATE PIN \n",
    "        2.ENTER 2 TO DEPOSIT \n",
    "        3.ENTER 3 TO WITHDRAW\n",
    "        4.ENTER 4 TO CHECK BALANCE\n",
    "        5.ENTER 5 TO EXIT\n",
    "        \"\"\")\n",
    "        if user_input==\"1\":\n",
    "            self.create_pin()\n",
    "        elif user_input==\"2\":\n",
    "            self.withdraw()\n",
    "        elif user_input==\"3\":\n",
    "            self.deposit()\n",
    "        elif user_input==\"4\":\n",
    "            self.balance()\n",
    "        else:\n",
    "            print(\"bye\")\n",
    "    def create_pin(self):\n",
    "        self.pin=input(\"enter your pin\")\n",
    "        print(\"Pin set success\")\n",
    "    def deposit(self):\n",
    "        temp=input(\"enter yout pin\")\n",
    "        if temp==self.pin:\n",
    "            amount=int(input(\"enter the amount\"))\n",
    "            self.balance=self.balance+amount\n",
    "            print(\"Deposit successfully\")\n",
    "        else:\n",
    "            print(\"invalid pin\")\n",
    "    def withdraw(self):\n",
    "        temp=input(\"enter yout pin\")\n",
    "        if temp==self.pin:\n",
    "            amount=int(input(\"enter the amount to be withdraw\"))\n",
    "            if self.balance>=amount:\n",
    "                self.balance=self.balance-amount\n",
    "                print(\"Operation Succesful\")\n",
    "            else:\n",
    "                print(\"insufficient funds\")\n",
    "        else:\n",
    "            print(\"invalid pin\")\n",
    "    def balance(self):\n",
    "        temp=input(\"enter the pin\")\n",
    "        if temp==self.pin:\n",
    "            print(\"The total balance is\"+self.balance)\n",
    "        else:\n",
    "            print(\"invalid pin\")\n",
    "\n",
    "a=Atm()    \n",
    "                \n",
    "                \n",
    "        \n",
    "        \n",
    "        \n",
    "        \n",
    "        \n",
    "     \n",
    "     \n",
    "     \n",
    "    \n",
    "    "
   ]
  },
  {
   "cell_type": "code",
   "execution_count": 8,
   "id": "20ead1ed-2891-4a11-a433-71318ffed4cb",
   "metadata": {},
   "outputs": [
    {
     "name": "stdout",
     "output_type": "stream",
     "text": [
      "hello\n",
      "the quotient is 6/12\n",
      "the product is 8/9\n",
      "the sum is 18/9\n",
      "the difference is 6/9\n"
     ]
    }
   ],
   "source": [
    "#we will use a magic function __str__ this is used when we want to print the object this function is called , which \n",
    "#will help us to print the answer in the fraction form\n",
    "\n",
    "class Example:\n",
    "    def __str__(self):\n",
    "        return \"hello\"\n",
    "x=Example()\n",
    "print(x)  #trying to print the object\n",
    "\n",
    "# now we will create a datatype in python using class \n",
    "\n",
    "class Fraction:\n",
    "    def __init__(self,n,d):\n",
    "        self.num=n\n",
    "        self.den=d\n",
    "    def __str__(self):\n",
    "        return \"{}/{}\".format(self.num,self.den)\n",
    "#x=Fraction(11,2)\n",
    "#print(x)\n",
    "#now we will perform operations on the fractions\n",
    "    def __add__(self,other):\n",
    "        temp_num=self.num*other.den+self.den*other.num\n",
    "        temp_den=self.den*other.den\n",
    "        return \"{}/{}\".format(temp_num,temp_den)\n",
    "    def __sub__(self,other):\n",
    "        temp_num=self.num*other.den-self.den*other.num\n",
    "        temp_den=self.den*other.den\n",
    "        return \"{}/{}\".format(temp_num,temp_den)\n",
    "    def __mul__(self,other):\n",
    "        temp_num=self.num*other.num\n",
    "        temp_den=self.den*other.den\n",
    "        return \"{}/{}\".format(temp_num,temp_den)\n",
    "    def __truediv__(self,other):\n",
    "        temp_num=self.num*other.den\n",
    "        temp_den=self.den*other.num\n",
    "        return \"{}/{}\".format(temp_num,temp_den)\n",
    "        \n",
    "x=Fraction(2,3)\n",
    "y=Fraction(4,3)\n",
    "print(\"the quotient is {}\".format(x/y))\n",
    "print(\"the product is {}\".format(x*y))\n",
    "print(\"the sum is {}\".format(x+y))\n",
    "print(\"the difference is {}\".format(y-x))"
   ]
  },
  {
   "cell_type": "code",
   "execution_count": 1,
   "id": "0b14202d-b785-4403-9842-413ca6b3ed16",
   "metadata": {},
   "outputs": [
    {
     "name": "stdin",
     "output_type": "stream",
     "text": [
      "enter the pin 1234\n"
     ]
    },
    {
     "name": "stdout",
     "output_type": "stream",
     "text": [
      "1234\n"
     ]
    },
    {
     "name": "stdin",
     "output_type": "stream",
     "text": [
      "enter the pin 45\n"
     ]
    },
    {
     "data": {
      "text/plain": [
       "<__main__.A at 0x21578fd3190>"
      ]
     },
     "execution_count": 1,
     "metadata": {},
     "output_type": "execute_result"
    }
   ],
   "source": [
    "#instance variables=>variable in constructor and each object \n",
    "#has its own variables value\n",
    "\n",
    "#ENCAPSULATION \n",
    "#a intance variable is made private by putting self.__pin (two underscore before var name)\n",
    "class A:\n",
    "    def __init__(self):\n",
    "        self.__pin=int(input(\"enter the pin\"))\n",
    "a=A()#HERE CONSTURCTOR WILL BE CALLED,OBJECT BEING MADE \n",
    "#BUT CAN ACCESS PIN DIRECTLY WITHOUT METHOD BUT ONE INDIRECT WAY NOT RECOMMEND TO USE\n",
    "print(a._A__pin) #indirect way to acces\n",
    "#we can apply same to the method also to hide it by __method()\n",
    "#when we change and data member or method into this then python implicitly convert then into _CLASSNAME__MEMBERNAME \n",
    "# everywhere it is written so if we try to acess it by __member than that will not be accessed but error will also not \n",
    "# arise becasue new member will be created by that name.\n",
    "\n",
    "# SO THERE IS NOTING PRIVATE IN PYTHON//\n",
    "#never make your data directly accessible make it accessible by getter or setter methods \n",
    "#so that we can implement logic in that  it can set values abided by some rules.\n",
    "#this is encapsulation hide and \n",
    "A()#WILL NOT GIVE ERROR BUT NOW WE CANT THAT OBJECT USE IT LOST.SO WE GIVE REFERENCE TO IT \n",
    "# BY USING A VARIABLE CALLED REFERENCE VARIABLE \n",
    "# c=A()# HERE c IS REFERENCE VARIABLE"
   ]
  },
  {
   "cell_type": "code",
   "execution_count": 18,
   "id": "95bef7f8-ccd4-47e2-9ee1-9519f5d3c095",
   "metadata": {},
   "outputs": [
    {
     "name": "stdout",
     "output_type": "stream",
     "text": [
      "2291254342352\n",
      "2291254342352\n",
      "2291254342352\n"
     ]
    }
   ],
   "source": [
    " # Pass By Refernce \n",
    "class Customer:\n",
    "    def __init__(self,name):\n",
    "        self.name=name\n",
    "def greet(customer):\n",
    "    print(id(customer))\n",
    "    customer.name=\"sk\"\n",
    "    print(id(customer))\n",
    "    \n",
    "cust=Customer(\"Nitish\")\n",
    "greet(cust)\n",
    "print(id(cust))\n",
    "#Aliasing \n",
    "# so in output all id are same even after changing the object data so we can say\n",
    "# objects are mutable in python like lists,dict and sets because address is same before and after change. "
   ]
  },
  {
   "cell_type": "code",
   "execution_count": 26,
   "id": "25281646-d586-4524-8491-d8f1a22ed1c2",
   "metadata": {},
   "outputs": [
    {
     "name": "stdout",
     "output_type": "stream",
     "text": [
      "2291254662656\n",
      "2291254307840\n",
      "[1, 2, [9, 6], 3, 5]\n",
      "[1, 2, [9, 6], 3]\n",
      "[1, 2, [9, 6], 3, 5]\n",
      "[2, [9, 6], 3]\n"
     ]
    }
   ],
   "source": [
    "#do sot pass original list or mutable type objects instead send the copy of the object for example \n",
    "def change(L):\n",
    "    print(id(L))\n",
    "    L.append(5)\n",
    "    L[2][0]=9\n",
    "    print(L)\n",
    "    return L\n",
    "L1=list()\n",
    "L1=[1,2,['a',6],3]\n",
    "print(id(L1))\n",
    "k=change(L1[:])#creates shallow copy \n",
    "print(L1)\n",
    "del L1[0]\n",
    "print(k)\n",
    "print(L1)\n",
    "# modifying the nested list within the shallow copy affects the nested list in the original list as \n",
    "# well because they both share references to the same nested list object. However, modifying elements\n",
    "# outside the nested list (like 1, 2, and 5) won't affect the original list.\n",
    "#so for this we use deepcopy syntax for both are=>\n",
    "# import copy\n",
    "# shallow_copy = copy.copy(original_object)\n",
    "# deep_copy = copy.deepcopy(original_object)\n",
    "#cannot put objects in sets because objects are mutable and sets contain only immutable \n"
   ]
  },
  {
   "cell_type": "code",
   "execution_count": 31,
   "id": "17cbac3b-9bf0-49c4-833b-5f8570013265",
   "metadata": {},
   "outputs": [
    {
     "name": "stdout",
     "output_type": "stream",
     "text": [
      "I am  Nitish 45\n",
      "I am  Nit 5\n",
      "I am  Niti 4\n"
     ]
    }
   ],
   "source": [
    "#collection of objects \n",
    "class Customer:\n",
    "    def __init__(self,name,age):\n",
    "        self.name=name\n",
    "        self.age=age \n",
    "    def intro(self):\n",
    "        print(\"I am \",i.name,i.age)\n",
    "c1=Customer(\"Nitish\",45)\n",
    "c2=Customer(\"Nit\",5)\n",
    "c3=Customer(\"Niti\",4)\n",
    "L=[c1,c2,c3]\n",
    "for i in L:\n",
    "    # print(i) dont know how to show the object\n",
    "    i.intro()"
   ]
  },
  {
   "cell_type": "code",
   "execution_count": 47,
   "id": "c7f3a239-0a34-498e-b106-432e2bd81047",
   "metadata": {},
   "outputs": [
    {
     "name": "stdout",
     "output_type": "stream",
     "text": [
      "the total no. of stuents are 3\n"
     ]
    }
   ],
   "source": [
    "# instance variable => different value for differnt object and created in the constructor \n",
    "# static or class variable =>same value for all objects and created outside the constructor\n",
    "# when we access class variable we dont write self we write the class name to acess it.\n",
    "class Student:\n",
    "    count=1\n",
    "    def __init__(self,name):\n",
    "        self.name=name\n",
    "        self.sno=Student.count\n",
    "        Student.count=Student.count+1\n",
    "    @staticmethod\n",
    "    def get():#this is static methods \n",
    "        print(\"the total no. of students are\",Student.count)\n",
    "s1=Student(\"ram\")\n",
    "s2=Student(\"shyam\")\n",
    "s2.sno\n",
    "s1.sno\n",
    "s1.count\n",
    "Student.count#can be accessed without the object also\n",
    "#the methods in which we use only static variable no need of self there.        \n",
    "Student.get()#calling static methods "
   ]
  },
  {
   "cell_type": "code",
   "execution_count": null,
   "id": "5a24e5bc-a8ea-4440-9b09-7ca58702bac9",
   "metadata": {},
   "outputs": [],
   "source": [
    "# RELATIONSHIP BW CLASSES \n",
    "# 2 TYPES 1)AGGREGATION(Has-A)  Example Customer HAS-A address\n",
    "          # 2)INHERITANCE(IS-A) EXAMPLE CAR IS-A vehicle"
   ]
  },
  {
   "cell_type": "code",
   "execution_count": 6,
   "id": "efe81f08-85e4-4324-a93d-874507f9ac1a",
   "metadata": {},
   "outputs": [
    {
     "name": "stdout",
     "output_type": "stream",
     "text": [
      "wb\n",
      "haryana\n"
     ]
    }
   ],
   "source": [
    "# example of aggregation \n",
    "class Customer:\n",
    "    def __init__(self,name,gender,address):\n",
    "        self.name=name\n",
    "        self.gender=gender\n",
    "        self.address=address\n",
    "    def edit_profile(self,new_name,new_city,new_pin,new_state):\n",
    "        self.name=new_name\n",
    "        self.address.change_address(new_city,new_pin,new_state)\n",
    "class Address:\n",
    "    def __init__(self,city,pincode,state):\n",
    "        self.city=city\n",
    "        self.pincode=pincode\n",
    "        self.state=state\n",
    "    def change_address(self,new_city,new_pin,new_state):\n",
    "        self.city=new_city\n",
    "        self.pin=new_pin\n",
    "        self.state=new_state\n",
    "add=Address(\"kolkata\",700156,\"wb\")\n",
    "cust=Customer(\"nitish\",\"MALE\",add)\n",
    "print(cust.address.state)\n",
    "cust.edit_profile(\"Ankit\",\"Gurgoan\",123456,\"haryana\")\n",
    "print(cust.address.state)\n",
    "# rule=>default arguments should come at last in function\n",
    "# this is called has-A relationship in which the Customer class make change in Adreess by the address class and this relationship is called Aggregation"
   ]
  },
  {
   "cell_type": "code",
   "execution_count": 9,
   "id": "75f812d7-4ac7-4e1b-8702-801bf4627232",
   "metadata": {},
   "outputs": [
    {
     "name": "stdout",
     "output_type": "stream",
     "text": [
      "Enroll\n",
      "Login\n",
      "Register\n",
      "review\n"
     ]
    }
   ],
   "source": [
    "#Inheritance\n",
    "# cannot inherit the private members and methods of the Parent class.\n",
    "class User:\n",
    "    def login(self):\n",
    "        print(\"Login\")\n",
    "    def register(self):\n",
    "        print(\"Register\")\n",
    "class Student(User):#iheriting the User class \n",
    "    def enroll(self):\n",
    "        print(\"Enroll\")\n",
    "    def review(self):\n",
    "        print(\"review\")\n",
    "stu=Student()\n",
    "stu.enroll()\n",
    "stu.login()\n",
    "stu.register()\n",
    "stu.review()\n",
    "# all methods can only be accessed by the child class only."
   ]
  },
  {
   "cell_type": "code",
   "execution_count": 4,
   "id": "b8b3f23a-6efb-4ccb-bab3-650b3aef8b76",
   "metadata": {},
   "outputs": [
    {
     "name": "stdout",
     "output_type": "stream",
     "text": [
      "inside phone constructor\n"
     ]
    }
   ],
   "source": [
    "# examples of the inhertance\n",
    "# example-1\n",
    "class Phone:\n",
    "    def __init__(self,price,brand,camera):\n",
    "        print(\"inside phone constructor\")\n",
    "        self.price=price\n",
    "        self.brand=brand\n",
    "        self.camera=camera\n",
    "class SmartPhone(Phone):\n",
    "    pass\n",
    "s=SmartPhone(2000,\"apple\",13)\n",
    "#if the child class does not have constructor and when we make object of the child class then the \n",
    "# constructor of the parent class will be called."
   ]
  },
  {
   "cell_type": "code",
   "execution_count": null,
   "id": "2130fc8b-a0ae-4507-87f9-c1854d31544a",
   "metadata": {},
   "outputs": [],
   "source": [
    "# example 2\n",
    "class Phone:\n",
    "    def __init__(self,price,brand,camera):\n",
    "        print(\"inside phone constructor\")\n",
    "        self.__price=price#private member\n",
    "        self.brand=brand\n",
    "        self.camera=camera\n",
    "class SmartPhone(Phone):\n",
    "    def check(self):\n",
    "        print(self.__price)#cannot acess the private member\n",
    "        print(self.price)#cannot access the private member\n",
    "s=SmartPhone(2000,\"apple\",13)\n",
    "s.check()\n",
    "#so the learning is child class connot inherit the private or hidden members of parent class          "
   ]
  },
  {
   "cell_type": "code",
   "execution_count": 11,
   "id": "6ad35c06-a6d6-44ae-9561-fc4d375c58b3",
   "metadata": {},
   "outputs": [
    {
     "name": "stdout",
     "output_type": "stream",
     "text": [
      "inside phone constructor\n",
      "buying a smartphone\n"
     ]
    }
   ],
   "source": [
    "#example 3(Polymorphism)\n",
    "class Phone:\n",
    "    def __init__(self,price,brand,camera):\n",
    "        print(\"inside phone constructor\")\n",
    "        self.__price=price#private member\n",
    "        self.brand=brand\n",
    "        self.camera=camera\n",
    "\n",
    "    def buy(self):\n",
    "        print(\"buying a phone\")\n",
    "    def return_phone(self):\n",
    "        print(\"returning a phone\")\n",
    "class FeaturePhone(Phone):\n",
    "    pass\n",
    "class SmartPhone(Phone):\n",
    "    def buy(self):\n",
    "        print(\"buying a smartphone\")\n",
    "s=SmartPhone(20000,\"Apple\",13)\n",
    "s.buy()\n",
    "        "
   ]
  }
 ],
 "metadata": {
  "kernelspec": {
   "display_name": "Python 3 (ipykernel)",
   "language": "python",
   "name": "python3"
  },
  "language_info": {
   "codemirror_mode": {
    "name": "ipython",
    "version": 3
   },
   "file_extension": ".py",
   "mimetype": "text/x-python",
   "name": "python",
   "nbconvert_exporter": "python",
   "pygments_lexer": "ipython3",
   "version": "3.11.5"
  }
 },
 "nbformat": 4,
 "nbformat_minor": 5
}
