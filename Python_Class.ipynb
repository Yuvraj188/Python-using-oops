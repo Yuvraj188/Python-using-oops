{
 "cells": [
  {
   "cell_type": "markdown",
   "id": "beba6828-74d9-42e4-867a-4471a7e0f186",
   "metadata": {},
   "source": [
    "class name=>PascalCase\n",
    "method name=>snake_case\n",
    "Object literals=\"create objects in a concise and intuitive way\"\n",
    "Function(NOT WRITTEN IN A CLASS AND CALLING IS DIFFERENT) vs METHODS(SAME AS FUNCTION WRITTEN IN A CLASS CALLED USING OBJECT)"
   ]
  },
  {
   "cell_type": "code",
   "execution_count": null,
   "id": "357957ce-01a1-4d6b-9a1c-d3e2de53c48c",
   "metadata": {},
   "outputs": [],
   "source": []
  }
 ],
 "metadata": {
  "kernelspec": {
   "display_name": "Python 3 (ipykernel)",
   "language": "python",
   "name": "python3"
  },
  "language_info": {
   "codemirror_mode": {
    "name": "ipython",
    "version": 3
   },
   "file_extension": ".py",
   "mimetype": "text/x-python",
   "name": "python",
   "nbconvert_exporter": "python",
   "pygments_lexer": "ipython3",
   "version": "3.11.1"
  }
 },
 "nbformat": 4,
 "nbformat_minor": 5
}
